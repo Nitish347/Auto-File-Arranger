{
  "cells": [
    {
      "cell_type": "markdown",
      "metadata": {
        "id": "view-in-github",
        "colab_type": "text"
      },
      "source": [
        "<a href=\"https://colab.research.google.com/github/Nitish347/Auto-File-Arranger/blob/master/Youtube_Video_Transcript_Summarization_with_Hugging_Face_Transformers.ipynb\" target=\"_parent\"><img src=\"https://colab.research.google.com/assets/colab-badge.svg\" alt=\"Open In Colab\"/></a>"
      ]
    },
    {
      "cell_type": "code",
      "execution_count": 1,
      "metadata": {
        "id": "tlpumP3FVaX1"
      },
      "outputs": [],
      "source": [
        "!pip install -q transformers"
      ]
    },
    {
      "cell_type": "code",
      "execution_count": 2,
      "metadata": {
        "id": "MerNIV9hVeCy"
      },
      "outputs": [],
      "source": [
        "!pip install -q youtube_transcript_api"
      ]
    },
    {
      "cell_type": "code",
      "execution_count": 3,
      "metadata": {
        "id": "S4ppPcuNVWJs"
      },
      "outputs": [],
      "source": [
        "from transformers import pipeline\n",
        "from youtube_transcript_api import YouTubeTranscriptApi\n"
      ]
    },
    {
      "cell_type": "code",
      "execution_count": 21,
      "metadata": {
        "id": "nadgLmS-XGCN"
      },
      "outputs": [],
      "source": [
        "youtube_video = \"https://www.youtube.com/watch?v=JhaFxsMp1sQ\""
      ]
    },
    {
      "cell_type": "code",
      "execution_count": 22,
      "metadata": {
        "id": "MugczqjFXLtr"
      },
      "outputs": [],
      "source": [
        "video_id = youtube_video.split(\"=\")[1]"
      ]
    },
    {
      "cell_type": "code",
      "execution_count": 23,
      "metadata": {
        "colab": {
          "base_uri": "https://localhost:8080/",
          "height": 36
        },
        "id": "NDQTbtiqekvX",
        "outputId": "13eea12e-8c6b-40ea-fab6-2b6fb08e2322"
      },
      "outputs": [
        {
          "output_type": "execute_result",
          "data": {
            "text/plain": [
              "'JhaFxsMp1sQ'"
            ],
            "application/vnd.google.colaboratory.intrinsic+json": {
              "type": "string"
            }
          },
          "metadata": {},
          "execution_count": 23
        }
      ],
      "source": [
        "video_id"
      ]
    },
    {
      "cell_type": "code",
      "execution_count": 24,
      "metadata": {
        "colab": {
          "base_uri": "https://localhost:8080/",
          "height": 322
        },
        "id": "KLQNhfZBYWVe",
        "outputId": "abd0c383-d24a-4b4f-cbeb-8c6e09d1c330"
      },
      "outputs": [
        {
          "output_type": "execute_result",
          "data": {
            "text/plain": [
              "<IPython.lib.display.YouTubeVideo at 0x7c598bbef250>"
            ],
            "text/html": [
              "\n",
              "        <iframe\n",
              "            width=\"400\"\n",
              "            height=\"300\"\n",
              "            src=\"https://www.youtube.com/embed/JhaFxsMp1sQ\"\n",
              "            frameborder=\"0\"\n",
              "            allowfullscreen\n",
              "            \n",
              "        ></iframe>\n",
              "        "
            ],
            "image/jpeg": "[encoded data removed]"
          },
          "metadata": {},
          "execution_count": 24
        }
      ],
      "source": [
        "from IPython.display import YouTubeVideo\n",
        "YouTubeVideo(video_id)"
      ]
    },
    {
      "cell_type": "code",
      "execution_count": 25,
      "metadata": {
        "id": "_sxrnhDVXXhR"
      },
      "outputs": [],
      "source": [
        "YouTubeTranscriptApi.get_transcript(video_id)\n",
        "transcript = YouTubeTranscriptApi.get_transcript(video_id)\n"
      ]
    },
    {
      "cell_type": "code",
      "execution_count": 9,
      "metadata": {
        "colab": {
          "base_uri": "https://localhost:8080/"
        },
        "id": "OtepAI30e7gp",
        "outputId": "78abd393-bc89-4da1-84ae-7d0be673ee96"
      },
      "outputs": [
        {
          "output_type": "execute_result",
          "data": {
            "text/plain": [
              "[{'text': \"for Germany it's the end of an era and\",\n",
              "  'start': 1.439,\n",
              "  'duration': 5.46},\n",
              " {'text': \"as Europe's biggest economy there are\",\n",
              "  'start': 4.859,\n",
              "  'duration': 4.801},\n",
              " {'text': 'some huge challenges ahead', 'start': 6.899, 'duration': 4.32},\n",
              " {'text': 'from its increasingly complex', 'start': 9.66, 'duration': 3.84},\n",
              " {'text': 'relationship with China to climate',\n",
              "  'start': 11.219,\n",
              "  'duration': 4.98}]"
            ]
          },
          "metadata": {},
          "execution_count": 9
        }
      ],
      "source": [
        "transcript[0:5]"
      ]
    },
    {
      "cell_type": "code",
      "execution_count": 26,
      "metadata": {
        "colab": {
          "base_uri": "https://localhost:8080/"
        },
        "id": "yOZD8yvoVZWb",
        "outputId": "d3213d67-91ab-40f1-ecfc-0bf79ebf071a"
      },
      "outputs": [
        {
          "output_type": "stream",
          "name": "stdout",
          "text": [
            "11445\n"
          ]
        }
      ],
      "source": [
        "\n",
        "result = \"\"\n",
        "for i in transcript:\n",
        "    result += ' ' + i['text']\n",
        "#print(result)\n",
        "print(len(result))"
      ]
    },
    {
      "cell_type": "code",
      "execution_count": 27,
      "metadata": {
        "colab": {
          "base_uri": "https://localhost:8080/"
        },
        "id": "WwzF8ncWYbu7",
        "outputId": "b10b6f37-265f-41be-8446-283441ba55c7"
      },
      "outputs": [
        {
          "output_type": "stream",
          "name": "stderr",
          "text": [
            "No model was supplied, defaulted to sshleifer/distilbart-cnn-12-6 and revision a4f8f3e (https://huggingface.co/sshleifer/distilbart-cnn-12-6).\n",
            "Using a pipeline without specifying a model name and revision in production is not recommended.\n"
          ]
        }
      ],
      "source": [
        "summarizer = pipeline('summarization')"
      ]
    },
    {
      "cell_type": "code",
      "execution_count": 28,
      "metadata": {
        "colab": {
          "base_uri": "https://localhost:8080/"
        },
        "id": "mCz2lRhAV-G4",
        "outputId": "08db9bae-39e3-4744-cad1-9aa4c8f6d7b4"
      },
      "outputs": [
        {
          "output_type": "stream",
          "name": "stdout",
          "text": [
            "input text \n",
            " Do you like eating chocolates like dairy \n",
            "milk, 5 star or snickers? But at the same   time do you also not enjoy them guilt free \n",
            "because you know that most of the chocolates   sold in Indian market have more sugar than \n",
            "chocolate in them. But don’t worry as I wish   to share with you 5 healthy chocolates in \n",
            "the indian market that you can occasionally   eat guilt free. Towards the end of the video, \n",
            "I will also share with you a tasty homemade   chocolate recipe that is easier than making tea. \n",
            "So without any further delay let’s get started.  Hello Friends! Welcome to Fit Tuber. Visit \n",
            "the market and you will find that there are   basically 3 types of chocolates in India. First \n",
            "are the thick center type chocolates like 5 star,   Barone and snickers. You might consider them \n",
            "healthy. As a source of energy or something.   But how they fool us with their marketing, \n",
            "lets understand this from food pharmer.   Second are wafer type chocolates like \n",
            "munch, perk and kitkat. (FP video starts \n",
            "Summarized text\n",
            " Most of the chocolates sold in Indian market have more sugar than chocolate in them . But don’t worry as I wish to share with you 5 healthy chocolate that you can occasionally eat guilt free . Towards the end of the video, I will also share a tasty homemade chocolate recipe that is easier than making tea .\n",
            "input text \n",
            "  from “Kyaa aapko pata hai..) Third are the bar \n",
            "type of chocolates like dairy milk and milky bar.   The bottomline is that all these 3 types of \n",
            "chocolates are more of sugar candies than   real chocolate. Now when I say real chocolate I \n",
            "don’t mean those bitter dark chocolates that have   99% cocoa. I am talking of a chocolate which is \n",
            "healthy but at the same time it is as delicious   as dairy milk or snickers. Its time we start \n",
            "eating real chocolates and here are my 5 honest   recommendations. Before I reveal them, I want to \n",
            "assure you that this video is not sponsored by any   chocolate brand. I am just like you a consumer, \n",
            "who has a taste for chocolates but cares about   health more. So let’s begin the list with\n",
            "The Whole Truth’s Chocolates  If you have not tried the whole truth’s badaam \n",
            "chocolate, chocolate fudge bars and their range   of dark chocolates then you surely are missing out \n",
            "on something. If you see their badaam chocolate is   made with just 4 things. 31% cocoa 25\n",
            "Summarized text\n",
            " The Whole Truth’s Chocolates, The Whole Truth's chocolate, Chocolates  and chocolate fudge bars are more of sugar candies than real chocolate . Third are the bar type of chocolates like dairy milk and milky bar . The bottomline is that all these 3 types of sugar chocolates are more sugar candy .\n",
            "input text \n",
            "% almonds 24% \n",
            "date powder and 20% whole milk powder. Now compare   this with any thick center type chocolate. Let’s \n",
            "say,5 star. 5 star has over 20 ingredients but the   main thing cocoa is not even 10%. While the whole \n",
            "truth has put 31% cocoa in their chocolate. Then   badaam is not just written on the wrapper which \n",
            "is a commonpractice by most commercial brands.   1/4th of this chocolate has badaam. But the most \n",
            "important parameter to check if the chocolate you   are eating is healthy or not is to check where \n",
            "the sweetness in the chocolate is coming from.   Is it from a fruit, jaggery, desi khand, mishri \n",
            "or it has chemically refined sugar, invert syrup,   dextrose, glucose and all of that junk. Here all \n",
            "the sweetness in whole truth’s badaam chocolate   has been very thoughtfully added using dates \n",
            "powder. But all that is fine but what about its   taste. What is the price? So believe me, you will \n",
            "feel no compromise on the taste. Its has a normal   chocolate like taste. And with\n",
            "Summarized text\n",
            " 5 star has over 20 ingredients but the main thing cocoa is not even 10% cocoa . While whole truth has put 31% cocoa in their chocolate . The sweetness in whole truth’s badaam chocolate has been very thoughtfully added using dates date powder and 20% whole milk powder .\n",
            "input text \n",
            " such quality \n",
            "ingredients, price of Rs 75 is a total steal,   provided you value eating a real chocolate and \n",
            "not some chocolate coloured sugar candy. Best   thing about the whole truth chocolates is that \n",
            "they are available on platforms like Blinkit and   Big bazaar. So buying them is not a hassle. The \n",
            "whole truth’s choco fudge bars are a tight slap   on the face of Snickers. Where snickers has only \n",
            "7% peanuts the whole truth’s choco peanut fudge   has 44% peanuts. Frankly snickers is nothing \n",
            "more than blend of bad oil and sugar. Peanuts   and energy is kept more for marketing purpose. \n",
            "On the other hand whole truth’s 4 ingredient real   energy bars which come in 4 variants are all are \n",
            "top notch and will provide you real sustainable   energy. Even its price is very competitive. Their \n",
            "fudge bars will cost you just Rs 60. Again taste   is good. The whole truth also has two variants \n",
            "of dark chocolate. Hazelnut dark chocolate which   has 47% cocoa, 38% dates powder and 15% hazelnut\n",
            "Summarized text\n",
            " The whole truth’s choco peanut fudge bars are a tight slap on the face of Snickers . They are available on Blinkit and Big bazaar so buying them is not a hassle . Even their price is very competitive and taste is good, taste  is good .\n",
            "input text \n",
            "s. \n",
            "The other one has 71% cocoa and 29% dates powder.   Nothing else. Both are normal chocolates. They \n",
            "are not bitter. Its just that it doesn’t have   milk in it. The whole truth chocolates are \n",
            "not just unmatchable ingredient wise but   even taste wise they are very tempting. \n",
            "Every chocolate lover must try them once.  Next on the list is Sante Foods Dark Chocolate\n",
            "When I had tried this chocolate for the first   time, I was convinced that this the best \n",
            "replacement for dairy milk in the market.   This was for two reasons. First is its \n",
            "taste. Even though it is a dark chocolate,   it is sweetened with jaggery and has ayurvedic \n",
            "herbs like shatavari, shankhpushpi amd brahmi   in it but still its as delicious as any other \n",
            "commercial chocolate bar. Second factor was   its price. 50 grams of it is priced at Rs 105. If \n",
            "you compare, you get 58 grams of dairy milk silk   for Rs 90. And we all know that dairy milk ad is \n",
            "honest when they say kucch meetha ho jaaye because   that all it has. \n",
            "Summarized text\n",
            " Sante Foods Dark Chocolate is the best replacement for dairy milk in the market . 50 grams of it is priced at Rs 105 . The other one has 71% cocoa and 29% dates powder . Both are normal chocolates. Its just that it doesn’t have milk in it .\n",
            "input text \n",
            "While sante foods dark chocolate \n",
            "is appropriately sweetened with a healthier   alternative of refined sugar i.e. Jaggery plus it \n",
            "has a good balance of cocoa and ayurvedic herbs.   Now before you get too senti for sante, there \n",
            "is one negative. This chocolate has a couple   of emulsifiers. Emulsifiers are added to keep the \n",
            "mixture intact. Not a natural ingredient but still   at this price, its worth a bite.\n",
            "Next is Aadvik Foods Chocolate  When I had first heard of a camel milk chocolate, \n",
            "a goat milk chocolate. I thought. But to my   surprise, they are actually quite tasty. To be \n",
            "more precise, taste wise goat milk chocolates   taste better than camel milk chocolates. Both \n",
            "Goat milk and Camel milk have their own benefits.   In Ayurveda goat milk is suggested for increasing \n",
            "libido while camel milk has an instrinsic property   to increase height. Aadvik food chocolates come \n",
            "in different variants but after thoroughly going   through their ingredients I assure you that they \n",
            "have been\n",
            "Summarized text\n",
            " Dark chocolate is appropriately sweetened with a healthier alternative of refined sugar i.e. Jaggery plus it's a good balance of cocoa and ayurvedic herbs . Aadvik Foods Chocolate has a couple of emulsifiers. Not a natural ingredient but still worth a bite at this price .\n",
            "input text \n",
            " consciously made using organic cocoa   beans, unrefined organic raw sugar, milk solids \n",
            "or camel or goat, roasted nuts or dried fruits   with a natural vanilla flavour. Not artificial \n",
            "not nature identical. Any aadvik chocolate bar   will cost you Rs 225. Yes its premiumly priced \n",
            "because ingredients are premium. Also chocolate   is not something we eat daily. Nor we should. \n",
            "I would advise you to eat less but eat real.  Next is Anutamma’s Chocolate\n",
            "The catchy part of this chocolate is   that it is an A2 milk chocolate. A2 cow milk which \n",
            "is procured from our indigenous cows, we know is   way more superior than A1 cow milk which we get \n",
            "from foreign breed cows. This chocolate is not   just sweetened with a healthier sugar alternative \n",
            "called khandsari sugar but also the quantity of   added sugar is less. Where dairy milk per 100 \n",
            "grams has 47 grams of chemically refined sugar,   this has only 20 grams of unrefined sugar. \n",
            "Made with just 3 ingredients, Cocoa, A2 milk   and khandsari su\n",
            "Summarized text\n",
            " Any aadvik chocolate bar will cost you Rs 225 . Chocolate is not just sweetened with a healthier sugar alternative called khandsari sugar but also the quantity of added sugar is less . Anutamma’s Chocolate Chocolate Chocolate is an A2 milk chocolate .\n",
            "input text \n",
            "gar this is undoubtedly among the \n",
            "healthiest chocolates in the market. Taste wise,   I assure you won’t miss dairy milk or milky bar. \n",
            "Only thing that can stop you from trying it is   its price. It will cost you Rs 195 but not \n",
            "your health. Now you can make out what cheap   ingredients should be used if you want to make \n",
            "a 20-30 rs chocolate. I mean at this price you   can make anything but a real chocolate. Remember, \n",
            "Cocoa is not cheap. In fact, its very expensive.   And it is this cocoa because of which chocolates \n",
            "may be considered healthy. But to maintain a low   price commercial brands keep on reducing cocoa in \n",
            "their chocolate. People don’t get to know this,   they add an artificial cocoa flavour. And \n",
            "the extra space created is filled with   things like hydrogenated oils, palm oil, invert \n",
            "syrup, glucose and dextrose. Forget benefits,   this is now designed to be addictive.\n",
            "Next is Darkins  If you are a dark chocolate lover, darkins 56% \n",
            "dark chocolate is something you must tr\n",
            "Summarized text\n",
            " Commercial brands keep on reducing cocoa in their chocolate to maintain a low price . The extra space created is filled with things like hydrogenated oils, palm oil, invert syrup, glucose and dextrose . If you are a dark chocolate lover, darkins 56% is something you must try .\n",
            "input text \n",
            "y. Its not   at all bitter but having a bite you can understand \n",
            "that it is a fine rich chocolate which has been   appropriately sweetened. Compare it with amul’s \n",
            "dark chocolate or cadbury’s bournville. While   all 3 have 44g grams of sugar per 100 grams but \n",
            "darkins sugar source is way superior. Its organic   unrefined cane sugar. Both amul and bournville are \n",
            "artificially flavoured while darkins is made using   naturally farmed cacao, organic unrefined \n",
            "cane sugar and sanikatta river salt. No,   its not salty. But a pinch of salt is added \n",
            "to bring out the maximum flavour. And you can   feel it. This chocolate bar will cost you Rs 265. \n",
            "It might seem expensive at first glance but Its   price is comparative to forrero rocher and Lindt.\n",
            "Now these are some real good chocolate options   which you can enjoy guilt free. But I know at this \n",
            "price some of us will not buy them, no matter how   good their ingredients are. So let me share with \n",
            "you an amazing DIY chocolate. And I promise,   it\n",
            "Summarized text\n",
            " Darkins is made using naturally farmed cacao, organic unrefined cane sugar and sanikatta river salt . This chocolate bar will cost you Rs 265. y. It might seem expensive at first glance but Its price is comparative to forrero rocher and Lindt .\n",
            "input text \n",
            "s not just tasty but very easy to make as well.\n",
            "You will need is 5 things. Natural cocoa powder,   Coconut oil, Milk powder, crushed nuts and desi \n",
            "khand. We will use the double boiler method. Turn   the flame on and in the bowl add coconut oil, \n",
            "milk powder, cocoa powder and desi khand one   by one. Whisk it well for about10 seconds so that \n",
            "you get a pouring consistency. 10 seconds is more   than enough, else cocoa powder can burn. Then pour \n",
            "it in a mould and refrigerate it. After 1-2 hours,   the chocolate is ready. See how good it has turned \n",
            "out to be. Don’t forget to add crushed nuts as   its crunch really takes the taste to another \n",
            "level. You can feel the purity of eating a   cocoa rich milk chocolate. Made effective in just \n",
            "2 minutes, its easier than making tea. Anytime,   you wish to enjoy a healthy chocolate this is it. \n",
            "All the things required to make this chocolate are   easily available in any grocery shop. I have even \n",
            "linked it in the description box. Price wise this \n",
            "Summarized text\n",
            " You can feel the purity of eating a cocoa rich milk chocolate . Made effective in just 2 minutes, its easier than making tea . All the things required to make this chocolate are easily available in any grocery shop . Don’t forget to add crushed nuts as its crunch really takes the taste to another level .\n",
            "input text \n",
            "  bar of chocolate will cost you around 60 Rs. \n",
            "You see, even homemade chocolate can’t beat   the price of 5 star and kit kat. Because 1 kg \n",
            "of cocoa is 1500 Rs while 1 kg of invert syrup   is just Rs 15. So eat this real chocolate and \n",
            "do share your feedback in the comment section.  If you experience excessive hair fall or the \n",
            "growth of your hair is slow, I would suggest that   you do frequent head massage using a good hair \n",
            "oil. A good hair oil doesn’t mean that which is   loaded with mineral oil and artificial fragrance. \n",
            "Mamaearth’s rosemary hair growth oil is one good   hair oil in the Indian market. Why so? First of \n",
            "all it has no mineral oil, no artificial fragrance   nor any harmful preservatives like TBHQ and \n",
            "BHT. Secondly, in this oil herbs like rosemary,   bhringraj, amla, curry leaf, almond, methi dana, \n",
            "neem, aloe vera and brahmi have been boiled in a   blend of castor and coconut oil. Made using such \n",
            "amazing hair friendly herbs this hair oil is bound   to increase the \n"
          ]
        },
        {
          "output_type": "stream",
          "name": "stderr",
          "text": [
            "Your max_length is set to 142, but your input_length is only 121. Since this is a summarization task, where outputs shorter than the input are typically wanted, you might consider decreasing max_length manually, e.g. summarizer('...', max_length=60)\n"
          ]
        },
        {
          "output_type": "stream",
          "name": "stdout",
          "text": [
            "Summarized text\n",
            " Mamaearth’s rosemary hair growth oil is one good hair oil in the Indian market . It has no mineral oil, no artificial fragrance nor any harmful preservatives like TBHQ and BHT . In this oil herbs like rosemary, bhringraj, amla, curry leaf, almond, methi dana, aloe vera and brahmi have been boiled in a blend of castor and coconut oil .\n",
            "input text \n",
            "growth of your hair. 150 ml pack \n",
            "of Mamaearth’s this special hair growth oil will   cost you Rs 419. Apply FITTUBER21 discount and you \n",
            "will get the same for Rs 330. Made safe certified,   suitable for all hair types, to buy \n",
            "mamaearth’s this special hair growth oil,   click the link in description box.\n",
            "There are 4 things best for hair growth.   To know what they are, checkout this video. My \n",
            "name is Vivek, I thank you so much for watching.\n",
            "Summarized text\n",
            " 150ml pack of Mamaearth’s this special hair growth oil will cost you Rs 419 . Apply FITTUBER21 discount and you’ll get the same for Rs 330 . Made safe certified, suitable for all hair types, to buy mamaearth's special hair growth oil, click the link in description box .\n"
          ]
        }
      ],
      "source": [
        "num_iters = int(len(result)/1000)\n",
        "summarized_text = []\n",
        "for i in range(0, num_iters + 1):\n",
        "  start = 0\n",
        "  start = i * 1000\n",
        "  end = (i + 1) * 1000\n",
        "  print(\"input text \\n\" + result[start:end])\n",
        "  out = summarizer(result[start:end])\n",
        "  out = out[0]\n",
        "  out = out['summary_text']\n",
        "  print(\"Summarized text\\n\"+out)\n",
        "  summarized_text.append(out)\n",
        "\n",
        "#print(summarized_text)"
      ]
    },
    {
      "cell_type": "code",
      "execution_count": 29,
      "metadata": {
        "colab": {
          "base_uri": "https://localhost:8080/"
        },
        "id": "rLrIX_yJWHFo",
        "outputId": "f236aa83-eb5f-42d1-b6c3-9a59add9b6d6"
      },
      "outputs": [
        {
          "output_type": "execute_result",
          "data": {
            "text/plain": [
              "3404"
            ]
          },
          "metadata": {},
          "execution_count": 29
        }
      ],
      "source": [
        "len(str(summarized_text))"
      ]
    },
    {
      "cell_type": "code",
      "execution_count": 36,
      "metadata": {
        "colab": {
          "base_uri": "https://localhost:8080/",
          "height": 123
        },
        "id": "31mkg8GbcddH",
        "outputId": "bda29195-1c5e-436c-eaf9-69f6fbdd0e1e"
      },
      "outputs": [
        {
          "output_type": "execute_result",
          "data": {
            "text/plain": [
              "'[\\' Most of the chocolates sold in Indian market have more sugar than chocolate in them . But don’t worry as I wish to share with you 5 healthy chocolate that you can occasionally eat guilt free . Towards the end of the video, I will also share a tasty homemade chocolate recipe that is easier than making tea .\\', \" The Whole Truth’s Chocolates,\\\\xa0The Whole Truth\\'s chocolate,\\\\xa0Chocolates\\\\xa0 and chocolate fudge bars are more of sugar candies than real chocolate . Third are the bar\\\\xa0type of chocolates like dairy milk and milky bar . The bottomline is that all these 3 types of\\\\xa0sugar\\\\xa0chocolates are more sugar candy .\", \\' 5 star has over 20 ingredients but the main thing cocoa is not even 10% cocoa . While whole truth has put 31% cocoa in their chocolate . The sweetness in whole truth’s badaam chocolate has been very thoughtfully added using dates\\\\xa0date powder and 20% whole milk powder .\\', \\' The whole truth’s choco peanut fudge bars are a tight slap on the face of Snickers . They are available on Blinkit and Big bazaar so buying them is not a hassle . Even their price is very competitive and taste is good, taste\\\\xa0 is good .\\', \\' Sante Foods Dark Chocolate is the best replacement for dairy milk in the market . 50 grams of it is priced at Rs 105 . The other one has 71% cocoa and 29% dates powder . Both are normal chocolates. Its just that it doesn’t have milk in it .\\', \" Dark chocolate is appropriately sweetened with a healthier alternative of refined sugar i.e. Jaggery plus it\\'s a good balance of cocoa and ayurvedic herbs . Aadvik Foods Chocolate has a couple of emulsifiers. Not a natural ingredient but still worth a bite at this price .\", \\' Any aadvik chocolate bar will cost you Rs 225 . Chocolate is not just sweetened with a healthier sugar alternative called khandsari sugar but also the quantity of added sugar is less . Anutamma’s Chocolate Chocolate Chocolate is an A2 milk chocolate .\\', \\' Commercial brands keep on reducing cocoa in their chocolate to maintain a low price . The extra space created is filled with things like hydrogenated oils, palm oil, invert\\\\xa0syrup, glucose and dextrose . If you are a dark chocolate lover, darkins 56% is something you must try .\\', \\' Darkins is made using naturally farmed cacao, organic unrefined cane sugar and sanikatta river salt . This chocolate bar will cost you Rs 265. y. It might seem expensive at first glance but Its price is comparative to forrero rocher and Lindt .\\', \\' You can feel the purity of eating a cocoa rich milk chocolate . Made effective in just 2 minutes, its easier than making tea . All the things required to make this chocolate are easily available in any grocery shop . Don’t forget to add crushed nuts as its crunch really takes the taste to another\\\\xa0level .\\', \\' Mamaearth’s rosemary hair growth oil is one good hair oil in the Indian market . It has no mineral oil, no artificial fragrance nor any harmful preservatives like TBHQ and BHT . In this oil herbs like rosemary, bhringraj, amla, curry leaf, almond, methi dana,\\\\xa0aloe vera and brahmi have been boiled in a blend of castor and coconut oil .\\', \" 150ml pack of Mamaearth’s this special hair growth oil will cost you Rs 419 . Apply FITTUBER21 discount and you’ll get the same for Rs 330 . Made safe certified, suitable for all hair types, to buy\\\\xa0mamaearth\\'s\\\\xa0special\\\\xa0hair growth oil, click the link in description box .\"]'"
            ],
            "application/vnd.google.colaboratory.intrinsic+json": {
              "type": "string"
            }
          },
          "metadata": {},
          "execution_count": 36
        }
      ],
      "source": [
        "str(summarized_text)"
      ]
    },
    {
      "cell_type": "code",
      "execution_count": 41,
      "metadata": {
        "id": "F3X6nqKYhvgt",
        "outputId": "26ae1d99-8323-484f-d598-3acef93ca8e5",
        "colab": {
          "base_uri": "https://localhost:8080/"
        }
      },
      "outputs": [
        {
          "output_type": "stream",
          "name": "stdout",
          "text": [
            "Summary:\n",
            "Do you like eating chocolates like dairy milk, 5 star or snickers? But don’t worry as I wish to share with you 5 healthy chocolates in the indian market that you can occasionally eat guilt free. [...] Next is Aadvik Foods Chocolate When I had first heard of a camel milk chocolate, a goat milk chocolate. [...] To be more precise, taste wise goat milk chocolates taste better than camel milk chocolates. [...] Next is Anutamma’s Chocolate The catchy part of this chocolate is that it is an A2 milk chocolate.\n"
          ]
        }
      ],
      "source": [
        "import requests\n",
        "\n",
        "def summarize_essay_meaningcloud(essay_text, api_key):\n",
        "    url = \"https://api.meaningcloud.com/summarization-1.0\"\n",
        "    data = {\n",
        "        'key': api_key,\n",
        "        'txt': essay_text,\n",
        "        'sentences': 5  # Number of sentences in the summary\n",
        "    }\n",
        "\n",
        "    try:\n",
        "        response = requests.post(url, data=data)\n",
        "        summary = response.json()['summary']\n",
        "\n",
        "        return summary\n",
        "\n",
        "    except Exception as e:\n",
        "        print(f\"Error summarizing essay: {e}\")\n",
        "        return None\n",
        "\n",
        "# Example usage\n",
        "essay_text = result\n",
        "api_key = \"your_meaningcloud_api_key\"\n",
        "\n",
        "summary = summarize_essay_meaningcloud(essay_text, \"49ca8d6eaf2f93676f79b9dfc5286883\")\n",
        "print(\"Summary:\")\n",
        "print(summary)\n"
      ]
    }
  ],
  "metadata": {
    "colab": {
      "provenance": [],
      "include_colab_link": true
    },
    "kernelspec": {
      "display_name": "Python 3",
      "name": "python3"
    },
    "language_info": {
      "name": "python"
    }
  },
  "nbformat": 4,
  "nbformat_minor": 0
}